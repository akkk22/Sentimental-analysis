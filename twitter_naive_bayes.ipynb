{
  "nbformat": 4,
  "nbformat_minor": 0,
  "metadata": {
    "colab": {
      "provenance": [],
      "authorship_tag": "ABX9TyPUvjTgO1tBMxz/0elvoPO7",
      "include_colab_link": true
    },
    "kernelspec": {
      "name": "python3",
      "display_name": "Python 3"
    },
    "language_info": {
      "name": "python"
    }
  },
  "cells": [
    {
      "cell_type": "markdown",
      "metadata": {
        "id": "view-in-github",
        "colab_type": "text"
      },
      "source": [
        "<a href=\"https://colab.research.google.com/github/aviral-shrivastava/Sentimental-analysis/blob/main/twitter_naive_bayes.ipynb\" target=\"_parent\"><img src=\"https://colab.research.google.com/assets/colab-badge.svg\" alt=\"Open In Colab\"/></a>"
      ]
    },
    {
      "cell_type": "code",
      "execution_count": null,
      "metadata": {
        "colab": {
          "base_uri": "https://localhost:8080/",
          "height": 960
        },
        "id": "URwIZhAEOYGV",
        "outputId": "828da3b3-0c84-4063-b05c-76100cdfe7ee"
      },
      "outputs": [
        {
          "output_type": "stream",
          "name": "stderr",
          "text": [
            "[nltk_data] Downloading package stopwords to /root/nltk_data...\n",
            "[nltk_data]   Package stopwords is already up-to-date!\n",
            "[nltk_data] Downloading package punkt to /root/nltk_data...\n",
            "[nltk_data]   Package punkt is already up-to-date!\n",
            "[nltk_data] Downloading package punkt_tab to /root/nltk_data...\n",
            "[nltk_data]   Unzipping tokenizers/punkt_tab.zip.\n",
            "[nltk_data] Downloading package wordnet to /root/nltk_data...\n",
            "[nltk_data]   Package wordnet is already up-to-date!\n"
          ]
        },
        {
          "output_type": "stream",
          "name": "stdout",
          "text": [
            "Naive Bayes Accuracy: 0.98\n",
            "\n",
            "Classification Report:\n",
            "              precision    recall  f1-score   support\n",
            "\n",
            "    negative       0.75      1.00      0.86         3\n",
            "     neutral       1.00      1.00      1.00        13\n",
            "    positive       1.00      0.97      0.99        34\n",
            "\n",
            "    accuracy                           0.98        50\n",
            "   macro avg       0.92      0.99      0.95        50\n",
            "weighted avg       0.98      0.98      0.98        50\n",
            "\n",
            "Predictions saved to 'naive_bayes_sentiment.csv'.\n"
          ]
        },
        {
          "output_type": "stream",
          "name": "stderr",
          "text": [
            "<ipython-input-3-2cea3e7ce1b6>:78: FutureWarning: \n",
            "\n",
            "Passing `palette` without assigning `hue` is deprecated and will be removed in v0.14.0. Assign the `x` variable to `hue` and set `legend=False` for the same effect.\n",
            "\n",
            "  sns.countplot(x=\"Predicted_Sentiment\", data=test_data, palette=\"viridis\")\n"
          ]
        },
        {
          "output_type": "display_data",
          "data": {
            "text/plain": [
              "<Figure size 640x480 with 1 Axes>"
            ],
            "image/png": "[encoded data removed]"
          },
          "metadata": {}
        }
      ],
      "source": [
        "import pandas as pd\n",
        "from sklearn.feature_extraction.text import TfidfVectorizer\n",
        "from sklearn.model_selection import train_test_split\n",
        "from sklearn.naive_bayes import MultinomialNB\n",
        "from sklearn.metrics import accuracy_score, classification_report\n",
        "from nltk.corpus import stopwords\n",
        "from nltk.tokenize import word_tokenize\n",
        "from nltk.stem import WordNetLemmatizer\n",
        "import re\n",
        "import nltk\n",
        "import seaborn as sns\n",
        "import matplotlib.pyplot as plt\n",
        "\n",
        "# Download NLTK resources\n",
        "nltk.download(\"stopwords\")\n",
        "nltk.download(\"punkt\")\n",
        "nltk.download(\"punkt_tab\")\n",
        "nltk.download(\"wordnet\")\n",
        "\n",
        "# Load the datasets\n",
        "train_data = pd.read_csv(\"/content/train.csv\")\n",
        "test_data = pd.read_csv(\"/content/test.csv\")\n",
        "\n",
        "# Data cleaning functions\n",
        "lemmatizer = WordNetLemmatizer()\n",
        "stop_words = set(stopwords.words(\"english\"))\n",
        "\n",
        "def clean_text(text):\n",
        "    text = re.sub(r\"http\\S+\", \"\", text)  # Remove URLs\n",
        "    text = re.sub(r\"@\\w+\", \"\", text)    # Remove mentions\n",
        "    text = re.sub(r\"#\\w+\", \"\", text)    # Remove hashtags\n",
        "    text = re.sub(r\"[^\\w\\s]\", \"\", text) # Remove special characters\n",
        "    text = text.lower()                 # Convert to lowercase\n",
        "    return text\n",
        "\n",
        "def preprocess_text(text):\n",
        "    tokens = word_tokenize(text)\n",
        "    tokens = [lemmatizer.lemmatize(word) for word in tokens if word not in stop_words]\n",
        "    return \" \".join(tokens)\n",
        "\n",
        "# Clean and preprocess the training data\n",
        "train_data[\"cleaned_text\"] = train_data[\"tweet_text\"].apply(clean_text).apply(preprocess_text)\n",
        "test_data[\"cleaned_text\"] = test_data[\"tweet_text\"].apply(clean_text).apply(preprocess_text)\n",
        "\n",
        "# Extract features and labels\n",
        "tfidf_vectorizer = TfidfVectorizer(max_features=5000)\n",
        "X_train = tfidf_vectorizer.fit_transform(train_data[\"cleaned_text\"])\n",
        "X_test = tfidf_vectorizer.transform(test_data[\"cleaned_text\"])\n",
        "\n",
        "y_train = train_data[\"sentiment\"]  # Assumes sentiment labels are in this column\n",
        "y_test = test_data[\"sentiment\"]\n",
        "\n",
        "# Train Naive Bayes Model\n",
        "nb_model = MultinomialNB()\n",
        "nb_model.fit(X_train, y_train)\n",
        "\n",
        "# Predict on the test set\n",
        "y_pred = nb_model.predict(X_test)\n",
        "\n",
        "# Evaluate the model\n",
        "accuracy = accuracy_score(y_test, y_pred)\n",
        "print(f\"Naive Bayes Accuracy: {accuracy:.2f}\")\n",
        "\n",
        "print(\"\\nClassification Report:\")\n",
        "print(classification_report(y_test, y_pred))\n",
        "\n",
        "# Save the model and vectorizer for future use\n",
        "import joblib\n",
        "joblib.dump(nb_model, \"naive_bayes_model.pkl\")\n",
        "joblib.dump(tfidf_vectorizer, \"tfidf_vectorizer.pkl\")\n",
        "\n",
        "# Predict sentiment for test data and save to CSV\n",
        "test_data[\"Predicted_Sentiment\"] = y_pred\n",
        "test_data.to_csv(\"naive_bayes_sentiment.csv\", index=False)\n",
        "print(\"Predictions saved to 'naive_bayes_sentiment.csv'.\")\n",
        "\n",
        "# Plot sentiment distribution\n",
        "sns.countplot(x=\"Predicted_Sentiment\", data=test_data, palette=\"viridis\")\n",
        "plt.title(\"Sentiment Distribution for Naive Bayes Model\")\n",
        "plt.xlabel(\"Sentiment\")\n",
        "plt.ylabel(\"Count\")\n",
        "plt.show()\n"
      ]
    },
    {
      "cell_type": "code",
      "source": [],
      "metadata": {
        "id": "rnTbHv-eOfAY"
      },
      "execution_count": null,
      "outputs": []
    }
  ]
}