{
  "nbformat": 4,
  "nbformat_minor": 0,
  "metadata": {
    "colab": {
      "provenance": [],
      "authorship_tag": "ABX9TyPTxjIFejxMAr2LqK6fBh3G",
      "include_colab_link": true
    },
    "kernelspec": {
      "name": "python3",
      "display_name": "Python 3"
    },
    "language_info": {
      "name": "python"
    }
  },
  "cells": [
    {
      "cell_type": "markdown",
      "metadata": {
        "id": "view-in-github",
        "colab_type": "text"
      },
      "source": [
        "<a href=\"https://colab.research.google.com/github/aviral-shrivastava/Sentimental-analysis/blob/main/twitter_vader.ipynb\" target=\"_parent\"><img src=\"https://colab.research.google.com/assets/colab-badge.svg\" alt=\"Open In Colab\"/></a>"
      ]
    },
    {
      "cell_type": "code",
      "source": [
        "import pandas as pd\n",
        "import matplotlib.pyplot as plt\n",
        "from nltk.sentiment.vader import SentimentIntensityAnalyzer\n",
        "from nltk import download\n",
        "\n",
        "# Download VADER resources\n",
        "download(\"vader_lexicon\")\n",
        "\n",
        "# Load the test dataset\n",
        "test_data = pd.read_csv(\"test.csv\")  # Replace with your actual test.csv file path\n",
        "\n",
        "# Initialize VADER Sentiment Analyzer\n",
        "vader = SentimentIntensityAnalyzer()\n",
        "\n",
        "# Function to analyze sentiment\n",
        "def analyze_sentiment_vader(text):\n",
        "    scores = vader.polarity_scores(text)\n",
        "    if scores[\"compound\"] >= 0.05:\n",
        "        return \"positive\"\n",
        "    elif scores[\"compound\"] <= -0.05:\n",
        "        return \"negative\"\n",
        "    else:\n",
        "        return \"neutral\"\n",
        "\n",
        "# Apply sentiment analysis\n",
        "test_data[\"Predicted_Sentiment\"] = test_data[\"tweet_text\"].apply(analyze_sentiment_vader)\n",
        "\n",
        "# Count the sentiments\n",
        "sentiment_counts = test_data[\"Predicted_Sentiment\"].value_counts()\n",
        "\n",
        "# Plot histogram with sentiment counts\n",
        "plt.figure(figsize=(8, 6))\n",
        "bar_plot = sentiment_counts.plot(kind=\"bar\", color=[\"green\", \"orange\", \"red\"])\n",
        "plt.title(\"Sentiment Distribution Using VADER\")\n",
        "plt.xlabel(\"Sentiment\")\n",
        "plt.ylabel(\"Count\")\n",
        "plt.xticks(rotation=0)\n",
        "\n",
        "# Add text labels on the bars\n",
        "for idx, value in enumerate(sentiment_counts):\n",
        "    plt.text(idx, value + 0.5, str(value), ha=\"center\", fontsize=12)\n",
        "\n",
        "plt.show()\n",
        "\n",
        "# Print sentiment counts\n",
        "print(\"Sentiment Counts Using VADER:\")\n",
        "print(sentiment_counts)\n"
      ],
      "metadata": {
        "colab": {
          "base_uri": "https://localhost:8080/",
          "height": 703
        },
        "id": "WAAZ7fjgMh2e",
        "outputId": "5386ba05-4114-4c25-f40f-6526950b4027"
      },
      "execution_count": null,
      "outputs": [
        {
          "output_type": "stream",
          "name": "stderr",
          "text": [
            "[nltk_data] Downloading package vader_lexicon to /root/nltk_data...\n",
            "[nltk_data]   Package vader_lexicon is already up-to-date!\n"
          ]
        },
        {
          "output_type": "display_data",
          "data": {
            "text/plain": [
              "<Figure size 800x600 with 1 Axes>"
            ],
            "image/png": "[encoded data removed]"
          },
          "metadata": {}
        },
        {
          "output_type": "stream",
          "name": "stdout",
          "text": [
            "Sentiment Counts Using VADER:\n",
            "Predicted_Sentiment\n",
            "positive    23\n",
            "neutral     21\n",
            "negative     6\n",
            "Name: count, dtype: int64\n"
          ]
        }
      ]
    },
    {
      "cell_type": "code",
      "source": [
        "from sklearn.metrics import classification_report, accuracy_score\n",
        "\n",
        "# Ensure the ground truth sentiment labels exist in the dataset\n",
        "if \"sentiment\" in test_data.columns:\n",
        "    # Map true labels to match the VADER output format\n",
        "    true_labels = test_data[\"sentiment\"]  # Assuming values like \"positive\", \"neutral\", \"negative\"\n",
        "\n",
        "    # Calculate accuracy\n",
        "    accuracy = accuracy_score(true_labels, test_data[\"Predicted_Sentiment\"])\n",
        "    print(f\"Model Accuracy (VADER): {accuracy:.2f}\")\n",
        "\n",
        "    # Display classification report\n",
        "    print(\"\\nClassification Report:\")\n",
        "    print(classification_report(true_labels, test_data[\"Predicted_Sentiment\"]))\n",
        "else:\n",
        "    print(\"Ground truth sentiment labels are not available in the dataset.\")\n"
      ],
      "metadata": {
        "colab": {
          "base_uri": "https://localhost:8080/"
        },
        "id": "rxYGfzSAM2ma",
        "outputId": "7bd5319d-51ae-44a4-c9a0-ea263f089547"
      },
      "execution_count": null,
      "outputs": [
        {
          "output_type": "stream",
          "name": "stdout",
          "text": [
            "Model Accuracy (VADER): 0.48\n",
            "\n",
            "Classification Report:\n",
            "              precision    recall  f1-score   support\n",
            "\n",
            "    negative       0.17      0.33      0.22         3\n",
            "     neutral       0.29      0.46      0.35        13\n",
            "    positive       0.74      0.50      0.60        34\n",
            "\n",
            "    accuracy                           0.48        50\n",
            "   macro avg       0.40      0.43      0.39        50\n",
            "weighted avg       0.59      0.48      0.51        50\n",
            "\n"
          ]
        }
      ]
    },
    {
      "cell_type": "code",
      "source": [],
      "metadata": {
        "id": "3EEZtbTeM3AO"
      },
      "execution_count": null,
      "outputs": []
    }
  ]
}